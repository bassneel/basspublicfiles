{
  "nbformat": 4,
  "nbformat_minor": 0,
  "metadata": {
    "colab": {
      "provenance": []
    },
    "kernelspec": {
      "name": "python3",
      "display_name": "Python 3"
    },
    "language_info": {
      "name": "python"
    }
  },
  "cells": [
    {
      "cell_type": "code",
      "execution_count": null,
      "metadata": {
        "id": "tv1ZGgH5OS2C"
      },
      "outputs": [],
      "source": [
        "df = pd.read_csv('locations.csv')\n",
        "\n",
        "geometry = [Point(xy) for xy in zip(df['lon'], df['lat'])]\n",
        "gdf = gpd.GeoDataFrame(df, geometry=geometry)\n",
        "gdf.to_file('locations.shp', driver='ESRI Shapefile')\n",
        "\n",
        "colors = {}\n",
        "for i, name in enumerate(gdf['name']):\n",
        "    colors[name] = f\"#{i+1:02x}0000\"\n",
        "\n",
        "style = {'fillOpacity': 0.7, 'weight': 1, 'color': 'black'}\n",
        "m = Map(center=[0, 0], zoom=2)\n",
        "in_shp = 'locations.shp'\n",
        "m.add_shp(in_shp, layer_name=\"points\", style=style)\n",
        "\n",
        "from IPython.display import display\n",
        "display(m)"
      ]
    }
  ]
}